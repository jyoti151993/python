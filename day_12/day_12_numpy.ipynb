import numpy as np

print(np.zeros(10))
print(np.arange(10,50).reshape(4,10))
print(np.random.rand(1))